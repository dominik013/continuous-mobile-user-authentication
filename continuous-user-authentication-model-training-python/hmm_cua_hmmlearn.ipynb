{
 "cells": [
  {
   "cell_type": "markdown",
   "metadata": {},
   "source": [
    "# Trying to use hmmlearn library"
   ]
  },
  {
   "cell_type": "code",
   "execution_count": 1,
   "metadata": {},
   "outputs": [],
   "source": [
    "from conversion_utils import *\n",
    "\n",
    "def getCombinedStrokeSequencesFromDataFrames(paths, features):\n",
    "    stroke_sequences = []\n",
    "    for path in paths:\n",
    "        strokes = getDataFrameFromPath(path)\n",
    "        strokes = normalizeTimestamps(strokes)\n",
    "        strokes = normalizeDataframeColumnsMinMax(strokes, ['x_position', 'y_position', 'timestamp'])\n",
    "        #strokes = standardizeDataframeColumns(strokes, features)\n",
    "        strokes = convertToNumpySequences(strokes, features)\n",
    "        strokes = getSequencesWhereLengthBiggerThan(strokes, 1)\n",
    "\n",
    "        stroke_sequences = stroke_sequences + strokes\n",
    "\n",
    "    return stroke_sequences\n",
    "\n",
    "def getCombinedStrokeSequencesFromDataFramesLengthOne(paths, features):\n",
    "    stroke_sequences = []\n",
    "    for path in paths:\n",
    "        strokes = getDataFrameFromPath(path)\n",
    "        strokes = normalizeDataframeColumnsMinMax(strokes, features)\n",
    "        strokes = convertToNumpySequences(strokes, features)\n",
    "        strokes = getSequencesWithLength(strokes, 1)\n",
    "\n",
    "        stroke_sequences = stroke_sequences + strokes\n",
    "\n",
    "    return stroke_sequences\n",
    "\n",
    "def normalizeTimestamps(strokes):\n",
    "    ids = strokes.abs_mt_tracking_id.unique()\n",
    "    result = []\n",
    "    for id in ids:\n",
    "        index = strokes.loc[strokes['abs_mt_tracking_id'] == id].idxmin()[0]\n",
    "        min_time = strokes.at[index, 'timestamp']\n",
    "        s = strokes.loc[strokes['abs_mt_tracking_id'] == id]\n",
    "        s['timestamp'] = s['timestamp'] - min_time\n",
    "        result.append(s)\n",
    "\n",
    "    return pd.concat(result)"
   ]
  },
  {
   "cell_type": "markdown",
   "metadata": {},
   "source": [
    "# Gestures & Average Gesture Length of Datasets"
   ]
  },
  {
   "cell_type": "code",
   "execution_count": 2,
   "metadata": {
    "tags": []
   },
   "outputs": [
    {
     "output_type": "stream",
     "name": "stdout",
     "text": "data/sabrina/cua-db.db - Gestures: 195 Avg. Gesture Length: 90.22051282051282\ndata/alexander/cua-db.db - Gestures: 502 Avg. Gesture Length: 55.86852589641434\ndata/manuela/cua-db.db - Gestures: 315 Avg. Gesture Length: 92.5904761904762\ndata/nadine/cua-db.db - Gestures: 485 Avg. Gesture Length: 56.016494845360825\ndata/oehlboeck/cua-db.db - Gestures: 376 Avg. Gesture Length: 52.023936170212764\ndata/dominik1/cua-db.db - Gestures: 1791 Avg. Gesture Length: 72.1217197096594\nAverage len: 610.6666666666666\n"
    }
   ],
   "source": [
    "users = ['data/test1/cua-db.db', 'data/test2/cua-db.db', 'data/test3/cua-db.db', 'data/test4/cua-db.db', 'data/test5/cua-db.db', 'data/train/cua-db.db']\n",
    "average_len = 0\n",
    "for user in users:\n",
    "    X = getCombinedStrokeSequencesFromDataFrames([user], features = ['x_position', 'y_position'])\n",
    "    average_len += len(X)\n",
    "    gesture_length = 0\n",
    "    # calculate avg. gesture lengtg\n",
    "    for point in X:\n",
    "        length = point.shape[0]\n",
    "        gesture_length += length\n",
    "\n",
    "    gesture_length = gesture_length / len(X)\n",
    "\n",
    "    print(f'{user} - Gestures: {len(X)} Avg. Gesture Length: {gesture_length}')\n",
    "\n",
    "print(f'Average len: {average_len / len(users)}')"
   ]
  },
  {
   "cell_type": "markdown",
   "metadata": {},
   "source": [
    "# Model Training"
   ]
  },
  {
   "cell_type": "code",
   "execution_count": 3,
   "metadata": {},
   "outputs": [],
   "source": [
    "from hmmlearn import hmm\n",
    "from conversion_utils import *\n",
    "import numpy as np\n",
    "import pandas as pd\n",
    "import sqlite3\n",
    "\n",
    "np.random.seed(42)\n",
    "\n",
    "used_features = ['x_position', 'y_position', 'timestamp']\n",
    "X = getCombinedStrokeSequencesFromDataFrames(['data/train/cua-db.db'], features =  used_features)\n",
    "X_train, X_validate = generateTrainTestSplit(X, 0.85)"
   ]
  },
  {
   "cell_type": "code",
   "execution_count": 4,
   "metadata": {},
   "outputs": [],
   "source": [
    "from sklearn.model_selection import RepeatedKFold \n",
    "from sklearn.model_selection import TimeSeriesSplit\n",
    "\n",
    "def getHMMLeftToRightParameters(states):\n",
    "    transmat = np.zeros((states, states))\n",
    "\n",
    "    for i in range(states):\n",
    "        if i == states - 1:\n",
    "            transmat[i, i] = 1.0\n",
    "        else:\n",
    "            transmat[i, i] = transmat[i, i + 1] = 0.5\n",
    "\n",
    "    # Always start in first state\n",
    "    startprob = np.zeros(states)\n",
    "    startprob[0] = 1.0\n",
    "\n",
    "    return transmat, startprob\n",
    "\n",
    "def trainModelWithDataKFold(model, X, n_splits):\n",
    "    \"\"\"\n",
    "    Trains the passed model with the passed data\n",
    "    with n_splits-fold cross validation and returns\n",
    "    the average score of the model.\n",
    "    \"\"\"\n",
    "\n",
    "    kf = TimeSeriesSplit(n_splits = n_splits) \n",
    "    scores = []\n",
    "\n",
    "    for train_index, test_index in kf.split(X):\n",
    "        train = [X[i] for i in train_index]\n",
    "        test = [X[i] for i in test_index]\n",
    "\n",
    "        model.fit(X = np.concatenate(train), lengths = getLengthsOfSequences(train))\n",
    "        score = getScoreForModel(model, test)\n",
    "        scores.append(score)\n",
    "    return sum(scores) / len(scores)\n",
    "\n",
    "def getScoreForModel(model, data):\n",
    "    return sum(getIndividualScoresForModel(model, data))\n",
    "\n",
    "def getIndividualScoresForModel(model, data):\n",
    "    s = []\n",
    "    for seq in data:\n",
    "        s.append(model.score(X = seq) / len(seq))\n",
    "    return s"
   ]
  },
  {
   "cell_type": "code",
   "execution_count": 13,
   "metadata": {
    "tags": []
   },
   "outputs": [
    {
     "output_type": "stream",
     "name": "stdout",
     "text": "Train set size: 784 Validation set size: 139\nTraining model with 6 states and 7 mixtures."
    },
    {
     "output_type": "error",
     "ename": "ValueError",
     "evalue": "startprob_ must sum to 1.0 (got nan)",
     "traceback": [
      "\u001b[1;31m---------------------------------------------------------------------------\u001b[0m",
      "\u001b[1;31mValueError\u001b[0m                                Traceback (most recent call last)",
      "\u001b[1;32m<ipython-input-13-6b87104657db>\u001b[0m in \u001b[0;36m<module>\u001b[1;34m\u001b[0m\n\u001b[0;32m     25\u001b[0m         \u001b[1;31m#model.transmat_ = transmat\u001b[0m\u001b[1;33m\u001b[0m\u001b[1;33m\u001b[0m\u001b[1;33m\u001b[0m\u001b[0m\n\u001b[0;32m     26\u001b[0m \u001b[1;33m\u001b[0m\u001b[0m\n\u001b[1;32m---> 27\u001b[1;33m         \u001b[0mscore\u001b[0m \u001b[1;33m=\u001b[0m \u001b[0mtrainModelWithDataKFold\u001b[0m\u001b[1;33m(\u001b[0m\u001b[0mmodel\u001b[0m\u001b[1;33m,\u001b[0m \u001b[0mX_train\u001b[0m\u001b[1;33m,\u001b[0m \u001b[1;36m10\u001b[0m\u001b[1;33m)\u001b[0m\u001b[1;33m\u001b[0m\u001b[1;33m\u001b[0m\u001b[0m\n\u001b[0m\u001b[0;32m     28\u001b[0m         \u001b[0mprint\u001b[0m\u001b[1;33m(\u001b[0m\u001b[1;34mf'Score {score}'\u001b[0m\u001b[1;33m)\u001b[0m\u001b[1;33m\u001b[0m\u001b[1;33m\u001b[0m\u001b[0m\n\u001b[0;32m     29\u001b[0m \u001b[1;33m\u001b[0m\u001b[0m\n",
      "\u001b[1;32m<ipython-input-9-97c6636b64bd>\u001b[0m in \u001b[0;36mtrainModelWithDataKFold\u001b[1;34m(model, X, n_splits)\u001b[0m\n\u001b[0;32m     32\u001b[0m \u001b[1;33m\u001b[0m\u001b[0m\n\u001b[0;32m     33\u001b[0m         \u001b[0mmodel\u001b[0m\u001b[1;33m.\u001b[0m\u001b[0mfit\u001b[0m\u001b[1;33m(\u001b[0m\u001b[0mX\u001b[0m \u001b[1;33m=\u001b[0m \u001b[0mnp\u001b[0m\u001b[1;33m.\u001b[0m\u001b[0mconcatenate\u001b[0m\u001b[1;33m(\u001b[0m\u001b[0mtrain\u001b[0m\u001b[1;33m)\u001b[0m\u001b[1;33m,\u001b[0m \u001b[0mlengths\u001b[0m \u001b[1;33m=\u001b[0m \u001b[0mgetLengthsOfSequences\u001b[0m\u001b[1;33m(\u001b[0m\u001b[0mtrain\u001b[0m\u001b[1;33m)\u001b[0m\u001b[1;33m)\u001b[0m\u001b[1;33m\u001b[0m\u001b[1;33m\u001b[0m\u001b[0m\n\u001b[1;32m---> 34\u001b[1;33m         \u001b[0mscore\u001b[0m \u001b[1;33m=\u001b[0m \u001b[0mgetScoreForModel\u001b[0m\u001b[1;33m(\u001b[0m\u001b[0mmodel\u001b[0m\u001b[1;33m,\u001b[0m \u001b[0mtest\u001b[0m\u001b[1;33m)\u001b[0m\u001b[1;33m\u001b[0m\u001b[1;33m\u001b[0m\u001b[0m\n\u001b[0m\u001b[0;32m     35\u001b[0m         \u001b[0mscores\u001b[0m\u001b[1;33m.\u001b[0m\u001b[0mappend\u001b[0m\u001b[1;33m(\u001b[0m\u001b[0mscore\u001b[0m\u001b[1;33m)\u001b[0m\u001b[1;33m\u001b[0m\u001b[1;33m\u001b[0m\u001b[0m\n\u001b[0;32m     36\u001b[0m     \u001b[1;32mreturn\u001b[0m \u001b[0msum\u001b[0m\u001b[1;33m(\u001b[0m\u001b[0mscores\u001b[0m\u001b[1;33m)\u001b[0m \u001b[1;33m/\u001b[0m \u001b[0mlen\u001b[0m\u001b[1;33m(\u001b[0m\u001b[0mscores\u001b[0m\u001b[1;33m)\u001b[0m\u001b[1;33m\u001b[0m\u001b[1;33m\u001b[0m\u001b[0m\n",
      "\u001b[1;32m<ipython-input-9-97c6636b64bd>\u001b[0m in \u001b[0;36mgetScoreForModel\u001b[1;34m(model, data)\u001b[0m\n\u001b[0;32m     37\u001b[0m \u001b[1;33m\u001b[0m\u001b[0m\n\u001b[0;32m     38\u001b[0m \u001b[1;32mdef\u001b[0m \u001b[0mgetScoreForModel\u001b[0m\u001b[1;33m(\u001b[0m\u001b[0mmodel\u001b[0m\u001b[1;33m,\u001b[0m \u001b[0mdata\u001b[0m\u001b[1;33m)\u001b[0m\u001b[1;33m:\u001b[0m\u001b[1;33m\u001b[0m\u001b[1;33m\u001b[0m\u001b[0m\n\u001b[1;32m---> 39\u001b[1;33m     \u001b[1;32mreturn\u001b[0m \u001b[0msum\u001b[0m\u001b[1;33m(\u001b[0m\u001b[0mgetIndividualScoresForModel\u001b[0m\u001b[1;33m(\u001b[0m\u001b[0mmodel\u001b[0m\u001b[1;33m,\u001b[0m \u001b[0mdata\u001b[0m\u001b[1;33m)\u001b[0m\u001b[1;33m)\u001b[0m\u001b[1;33m\u001b[0m\u001b[1;33m\u001b[0m\u001b[0m\n\u001b[0m\u001b[0;32m     40\u001b[0m \u001b[1;33m\u001b[0m\u001b[0m\n\u001b[0;32m     41\u001b[0m \u001b[1;32mdef\u001b[0m \u001b[0mgetIndividualScoresForModel\u001b[0m\u001b[1;33m(\u001b[0m\u001b[0mmodel\u001b[0m\u001b[1;33m,\u001b[0m \u001b[0mdata\u001b[0m\u001b[1;33m)\u001b[0m\u001b[1;33m:\u001b[0m\u001b[1;33m\u001b[0m\u001b[1;33m\u001b[0m\u001b[0m\n",
      "\u001b[1;32m<ipython-input-9-97c6636b64bd>\u001b[0m in \u001b[0;36mgetIndividualScoresForModel\u001b[1;34m(model, data)\u001b[0m\n\u001b[0;32m     42\u001b[0m     \u001b[0ms\u001b[0m \u001b[1;33m=\u001b[0m \u001b[1;33m[\u001b[0m\u001b[1;33m]\u001b[0m\u001b[1;33m\u001b[0m\u001b[1;33m\u001b[0m\u001b[0m\n\u001b[0;32m     43\u001b[0m     \u001b[1;32mfor\u001b[0m \u001b[0mseq\u001b[0m \u001b[1;32min\u001b[0m \u001b[0mdata\u001b[0m\u001b[1;33m:\u001b[0m\u001b[1;33m\u001b[0m\u001b[1;33m\u001b[0m\u001b[0m\n\u001b[1;32m---> 44\u001b[1;33m         \u001b[0ms\u001b[0m\u001b[1;33m.\u001b[0m\u001b[0mappend\u001b[0m\u001b[1;33m(\u001b[0m\u001b[0mmodel\u001b[0m\u001b[1;33m.\u001b[0m\u001b[0mscore\u001b[0m\u001b[1;33m(\u001b[0m\u001b[0mX\u001b[0m \u001b[1;33m=\u001b[0m \u001b[0mseq\u001b[0m\u001b[1;33m)\u001b[0m \u001b[1;33m/\u001b[0m \u001b[0mlen\u001b[0m\u001b[1;33m(\u001b[0m\u001b[0mseq\u001b[0m\u001b[1;33m)\u001b[0m\u001b[1;33m)\u001b[0m\u001b[1;33m\u001b[0m\u001b[1;33m\u001b[0m\u001b[0m\n\u001b[0m\u001b[0;32m     45\u001b[0m     \u001b[1;32mreturn\u001b[0m \u001b[0ms\u001b[0m\u001b[1;33m\u001b[0m\u001b[1;33m\u001b[0m\u001b[0m\n",
      "\u001b[1;32mC:\\Software\\Anaconda3\\lib\\site-packages\\hmmlearn\\base.py\u001b[0m in \u001b[0;36mscore\u001b[1;34m(self, X, lengths)\u001b[0m\n\u001b[0;32m    279\u001b[0m         \"\"\"\n\u001b[0;32m    280\u001b[0m         \u001b[0m_utils\u001b[0m\u001b[1;33m.\u001b[0m\u001b[0mcheck_is_fitted\u001b[0m\u001b[1;33m(\u001b[0m\u001b[0mself\u001b[0m\u001b[1;33m,\u001b[0m \u001b[1;34m\"startprob_\"\u001b[0m\u001b[1;33m)\u001b[0m\u001b[1;33m\u001b[0m\u001b[1;33m\u001b[0m\u001b[0m\n\u001b[1;32m--> 281\u001b[1;33m         \u001b[0mself\u001b[0m\u001b[1;33m.\u001b[0m\u001b[0m_check\u001b[0m\u001b[1;33m(\u001b[0m\u001b[1;33m)\u001b[0m\u001b[1;33m\u001b[0m\u001b[1;33m\u001b[0m\u001b[0m\n\u001b[0m\u001b[0;32m    282\u001b[0m \u001b[1;33m\u001b[0m\u001b[0m\n\u001b[0;32m    283\u001b[0m         \u001b[0mX\u001b[0m \u001b[1;33m=\u001b[0m \u001b[0mcheck_array\u001b[0m\u001b[1;33m(\u001b[0m\u001b[0mX\u001b[0m\u001b[1;33m)\u001b[0m\u001b[1;33m\u001b[0m\u001b[1;33m\u001b[0m\u001b[0m\n",
      "\u001b[1;32mC:\\Software\\Anaconda3\\lib\\site-packages\\hmmlearn\\hmm.py\u001b[0m in \u001b[0;36m_check\u001b[1;34m(self)\u001b[0m\n\u001b[0;32m    732\u001b[0m \u001b[1;33m\u001b[0m\u001b[0m\n\u001b[0;32m    733\u001b[0m     \u001b[1;32mdef\u001b[0m \u001b[0m_check\u001b[0m\u001b[1;33m(\u001b[0m\u001b[0mself\u001b[0m\u001b[1;33m)\u001b[0m\u001b[1;33m:\u001b[0m\u001b[1;33m\u001b[0m\u001b[1;33m\u001b[0m\u001b[0m\n\u001b[1;32m--> 734\u001b[1;33m         \u001b[0msuper\u001b[0m\u001b[1;33m(\u001b[0m\u001b[1;33m)\u001b[0m\u001b[1;33m.\u001b[0m\u001b[0m_check\u001b[0m\u001b[1;33m(\u001b[0m\u001b[1;33m)\u001b[0m\u001b[1;33m\u001b[0m\u001b[1;33m\u001b[0m\u001b[0m\n\u001b[0m\u001b[0;32m    735\u001b[0m         \u001b[1;32mif\u001b[0m \u001b[1;32mnot\u001b[0m \u001b[0mhasattr\u001b[0m\u001b[1;33m(\u001b[0m\u001b[0mself\u001b[0m\u001b[1;33m,\u001b[0m \u001b[1;34m\"n_features\"\u001b[0m\u001b[1;33m)\u001b[0m\u001b[1;33m:\u001b[0m\u001b[1;33m\u001b[0m\u001b[1;33m\u001b[0m\u001b[0m\n\u001b[0;32m    736\u001b[0m             \u001b[0mself\u001b[0m\u001b[1;33m.\u001b[0m\u001b[0mn_features\u001b[0m \u001b[1;33m=\u001b[0m \u001b[0mself\u001b[0m\u001b[1;33m.\u001b[0m\u001b[0mmeans_\u001b[0m\u001b[1;33m.\u001b[0m\u001b[0mshape\u001b[0m\u001b[1;33m[\u001b[0m\u001b[1;36m2\u001b[0m\u001b[1;33m]\u001b[0m\u001b[1;33m\u001b[0m\u001b[1;33m\u001b[0m\u001b[0m\n",
      "\u001b[1;32mC:\\Software\\Anaconda3\\lib\\site-packages\\hmmlearn\\base.py\u001b[0m in \u001b[0;36m_check\u001b[1;34m(self)\u001b[0m\n\u001b[0;32m    567\u001b[0m         \u001b[1;32mif\u001b[0m \u001b[1;32mnot\u001b[0m \u001b[0mnp\u001b[0m\u001b[1;33m.\u001b[0m\u001b[0mallclose\u001b[0m\u001b[1;33m(\u001b[0m\u001b[0mself\u001b[0m\u001b[1;33m.\u001b[0m\u001b[0mstartprob_\u001b[0m\u001b[1;33m.\u001b[0m\u001b[0msum\u001b[0m\u001b[1;33m(\u001b[0m\u001b[1;33m)\u001b[0m\u001b[1;33m,\u001b[0m \u001b[1;36m1.0\u001b[0m\u001b[1;33m)\u001b[0m\u001b[1;33m:\u001b[0m\u001b[1;33m\u001b[0m\u001b[1;33m\u001b[0m\u001b[0m\n\u001b[0;32m    568\u001b[0m             raise ValueError(\"startprob_ must sum to 1.0 (got {:.4f})\"\n\u001b[1;32m--> 569\u001b[1;33m                              .format(self.startprob_.sum()))\n\u001b[0m\u001b[0;32m    570\u001b[0m \u001b[1;33m\u001b[0m\u001b[0m\n\u001b[0;32m    571\u001b[0m         \u001b[0mself\u001b[0m\u001b[1;33m.\u001b[0m\u001b[0mtransmat_\u001b[0m \u001b[1;33m=\u001b[0m \u001b[0mnp\u001b[0m\u001b[1;33m.\u001b[0m\u001b[0masarray\u001b[0m\u001b[1;33m(\u001b[0m\u001b[0mself\u001b[0m\u001b[1;33m.\u001b[0m\u001b[0mtransmat_\u001b[0m\u001b[1;33m)\u001b[0m\u001b[1;33m\u001b[0m\u001b[1;33m\u001b[0m\u001b[0m\n",
      "\u001b[1;31mValueError\u001b[0m: startprob_ must sum to 1.0 (got nan)"
     ]
    }
   ],
   "source": [
    "import matplotlib\n",
    "import matplotlib.pyplot as plt\n",
    "\n",
    "print(f'Train set size: {len(X_train)} Validation set size: {len(X_validate)}')\n",
    "\n",
    "min_states = 6\n",
    "min_mixtures = 7\n",
    "max_states = 7\n",
    "max_mixtures = 8\n",
    "\n",
    "best_score = float('-inf')\n",
    "best_model = []\n",
    "for states in range(min_states, max_states):\n",
    "    for mixtures in range(min_mixtures, max_mixtures):\n",
    "        print(f'Training model with {states} states and {mixtures} mixtures.', end = ' ')\n",
    "        \n",
    "        transmat, startprob = getHMMLeftToRightParameters(states)\n",
    "\n",
    "        model = hmm.GMMHMM(\n",
    "            n_components = states,\n",
    "            n_mix = mixtures\n",
    "        )\n",
    "\n",
    "        #model.startprob_ = startprob\n",
    "        #model.transmat_ = transmat\n",
    "        \n",
    "        score = trainModelWithDataKFold(model, X_train, 10)\n",
    "        print(f'Score {score}')\n",
    "\n",
    "        if score > best_score:\n",
    "            best_score = score\n",
    "            best_model = [states, mixtures, score]\n",
    "\n",
    "states, mixtures, score = best_model\n",
    "\n",
    "print(f'Best model has {states} states, {mixtures} mixtures with a score of {score}')\n",
    "\n",
    "model = hmm.GMMHMM(\n",
    "    n_components = states,\n",
    "    n_mix = mixtures\n",
    ")\n",
    "\n",
    "transmat, startprob = getHMMLeftToRightParameters(states)\n",
    "\n",
    "#model.startprob_ = startprob\n",
    "#model.transmat_ = transmat\n",
    "\n",
    "model.fit(X = np.concatenate(X_train), lengths = getLengthsOfSequences(X_train))"
   ]
  },
  {
   "cell_type": "markdown",
   "metadata": {},
   "source": [
    "# Model Evaluation"
   ]
  },
  {
   "cell_type": "code",
   "execution_count": 5,
   "metadata": {},
   "outputs": [],
   "source": [
    "def plot_roc_curve(fpr, tpr, roc_auc):\n",
    "    plt.title('Receiver Operating Characteristic')\n",
    "    plt.plot(fpr, tpr, 'b', label = 'AUC = %0.2f' % roc_auc)\n",
    "    plt.legend(loc = 'lower right')\n",
    "    plt.plot([0, 1], [0, 1],'r--')\n",
    "    plt.xlim([0, 1])\n",
    "    plt.ylim([0, 1])\n",
    "    plt.ylabel('True Positive Rate')\n",
    "    plt.xlabel('False Positive Rate')\n",
    "    plt.show()\n",
    "\n",
    "def plot_roc_curve_multiple(fpr, tpr, roc_auc, group_size):\n",
    "    if (len(fpr) != len(tpr) or len(tpr) != len(roc_auc)):\n",
    "        return \"Wrong input lengths\"\n",
    "    \n",
    "    plt.title('Receiver Operating Characteristic')\n",
    "    for i in range(0, len(fpr)):\n",
    "        plt.plot(fpr[i], tpr[i], label = 'N = %d | AUC = %0.2f' % (group_size[i], roc_auc[i]))\n",
    "\n",
    "    plt.legend(loc = 'lower right')\n",
    "    plt.plot([0, 1], [0, 1],'r--')\n",
    "    plt.xlim([0, 1])\n",
    "    plt.ylim([0, 1])\n",
    "    plt.ylabel('True Positive Rate')\n",
    "    plt.xlabel('False Positive Rate')\n",
    "    plt.show()\n",
    "\n",
    "def plot_eer(fpr, tpr, thresholds):\n",
    "    fnr = 1 - tpr\n",
    "    eer_threshold = thresholds[np.nanargmin(np.absolute((fnr - fpr)))]\n",
    "    eer_index = np.where(thresholds == eer_threshold)\n",
    "\n",
    "    EER = fpr[np.nanargmin(np.absolute(fnr - fpr))]\n",
    "    plt.plot(fpr, label='FPR')\n",
    "    plt.plot(fnr, label='FNR')\n",
    "    plt.plot(eer_index, fpr[eer_index], 'ro', label=\"EER {:.2f}\".format(EER*100))\n",
    "    plt.xlabel('Thresholds')\n",
    "    plt.ylabel('Error Rate')\n",
    "    plt.legend()\n",
    "    plt.show()\n",
    "    print(f'Equal Error Rate: {EER}')\n",
    "\n",
    "def calculate_single_eer(fpr, tpr, thresholds):\n",
    "    fnr = 1 - tpr\n",
    "    eer_threshold = thresholds[np.nanargmin(np.absolute((fnr - fpr)))]\n",
    "    eer_index = np.where(thresholds == eer_threshold)\n",
    "\n",
    "    EER = fpr[np.nanargmin(np.absolute(fnr - fpr))]\n",
    "    return EER\n",
    "\n",
    "def calculate_multiple_eer(fpr, tpr, thresholds, group_size):\n",
    "    if (len(fpr) != len(tpr) or len(tpr) != len(thresholds)):\n",
    "        return \"Wrong input lengths\"\n",
    "\n",
    "    EER_list = []\n",
    "\n",
    "    for i in range(0, len(fpr)):\n",
    "        fnr = 1 - tpr[i]\n",
    "        eer_threshold = thresholds[i][np.nanargmin(np.absolute((fnr - fpr[i])))]\n",
    "        eer_index = np.where(thresholds[i] == eer_threshold)\n",
    "        eer = fpr[i][np.nanargmin(np.absolute(fnr - fpr[i]))]\n",
    "        EER_list.append((group_size[i], eer))\n",
    "\n",
    "    return EER_list\n",
    "\n"
   ]
  },
  {
   "cell_type": "code",
   "execution_count": 6,
   "metadata": {
    "tags": []
   },
   "outputs": [
    {
     "output_type": "stream",
     "name": "stdout",
     "text": "data/sabrina/cua-db.db\ndata/manuela/cua-db.db\ndata/alexander/cua-db.db\ndata/nadine/cua-db.db\ndata/oehlboeck/cua-db.db\n"
    },
    {
     "output_type": "error",
     "ename": "NameError",
     "evalue": "name 'model' is not defined",
     "traceback": [
      "\u001b[1;31m---------------------------------------------------------------------------\u001b[0m",
      "\u001b[1;31mNameError\u001b[0m                                 Traceback (most recent call last)",
      "\u001b[1;32m<ipython-input-6-196160058b68>\u001b[0m in \u001b[0;36m<module>\u001b[1;34m\u001b[0m\n\u001b[0;32m      6\u001b[0m     \u001b[0mY\u001b[0m\u001b[1;33m.\u001b[0m\u001b[0mappend\u001b[0m\u001b[1;33m(\u001b[0m\u001b[0msequences\u001b[0m\u001b[1;33m)\u001b[0m\u001b[1;33m\u001b[0m\u001b[1;33m\u001b[0m\u001b[0m\n\u001b[0;32m      7\u001b[0m \u001b[1;33m\u001b[0m\u001b[0m\n\u001b[1;32m----> 8\u001b[1;33m \u001b[0mscore_positive\u001b[0m \u001b[1;33m=\u001b[0m \u001b[0mgetIndividualScoresForModel\u001b[0m\u001b[1;33m(\u001b[0m\u001b[0mmodel\u001b[0m\u001b[1;33m,\u001b[0m \u001b[0mX_validate\u001b[0m\u001b[1;33m)\u001b[0m\u001b[1;33m\u001b[0m\u001b[1;33m\u001b[0m\u001b[0m\n\u001b[0m\u001b[0;32m      9\u001b[0m \u001b[0mprint\u001b[0m\u001b[1;33m(\u001b[0m\u001b[1;34mf'Score positive: {sum(score_positive) / len(score_positive)}'\u001b[0m\u001b[1;33m)\u001b[0m\u001b[1;33m\u001b[0m\u001b[1;33m\u001b[0m\u001b[0m\n\u001b[0;32m     10\u001b[0m \u001b[0mscores_negative\u001b[0m \u001b[1;33m=\u001b[0m \u001b[1;33m[\u001b[0m\u001b[1;33m]\u001b[0m\u001b[1;33m\u001b[0m\u001b[1;33m\u001b[0m\u001b[0m\n",
      "\u001b[1;31mNameError\u001b[0m: name 'model' is not defined"
     ]
    }
   ],
   "source": [
    "\n",
    "\n",
    "test_datasets = ['data/test1/cua-db.db', 'data/test2/cua-db.db', 'data/test3/cua-db.db', 'data/test4/cua-db.db', 'data/test5/cua-db.db']\n",
    "Y = []\n",
    "for dataset in test_datasets:\n",
    "    print(dataset)\n",
    "    sequences = getCombinedStrokeSequencesFromDataFrames([dataset], features =  used_features)\n",
    "    Y.append(sequences)\n",
    "\n",
    "score_positive = getIndividualScoresForModel(model, X_validate)\n",
    "print(f'Score positive: {sum(score_positive) / len(score_positive)}')\n",
    "scores_negative = []\n",
    "for data in Y:\n",
    "    s = getIndividualScoresForModel(model, data)\n",
    "    scores_negative.append(s)\n",
    "    print(f'Score negative: {sum(s) / len(s)}')\n",
    "\n",
    "#plt.figure(figsize=(40,20))\n",
    "#for score in scores_negative:\n",
    "#    plt.plot(score, color = 'red')\n",
    "#\n",
    "#plt.plot(score_positive, color = 'green')\n",
    "#plt.show()"
   ]
  },
  {
   "cell_type": "code",
   "execution_count": 11,
   "metadata": {
    "tags": []
   },
   "outputs": [
    {
     "output_type": "display_data",
     "data": {
      "text/plain": "<Figure size 432x288 with 1 Axes>",
      "image/png": "[encoded data removed]"
     },
     "metadata": {
      "needs_background": "light"
     }
    },
    {
     "output_type": "display_data",
     "data": {
      "text/plain": "<Figure size 432x288 with 1 Axes>",
      "image/png": "[encoded data removed]"
     },
     "metadata": {
      "needs_background": "light"
     }
    },
    {
     "output_type": "stream",
     "name": "stdout",
     "text": "Equal Error Rate: 0.35344367325146825\n"
    }
   ],
   "source": [
    "# ROC For Single Gesture Prediciton\n",
    "from sklearn import metrics\n",
    "import matplotlib.pyplot as plt\n",
    "\n",
    "score_positive = getIndividualScoresForModel(model, X_validate)\n",
    "scores = score_positive\n",
    "\n",
    "for test_set in Y:\n",
    "    score_neg = getIndividualScoresForModel(model, test_set)\n",
    "    scores = np.concatenate([scores, score_neg])\n",
    "\n",
    "y_pos = np.ones(len(X_validate))\n",
    "y_neg = np.zeros(len(scores) - len(X_validate))\n",
    "y = np.concatenate([y_pos, y_neg])\n",
    "\n",
    "fpr, tpr, thresholds = metrics.roc_curve(y, scores)\n",
    "roc_auc = metrics.auc(fpr, tpr)\n",
    "\n",
    "plot_roc_curve(fpr, tpr, roc_auc)\n",
    "plot_eer(fpr, tpr, thresholds)"
   ]
  },
  {
   "cell_type": "code",
   "execution_count": 12,
   "metadata": {
    "tags": []
   },
   "outputs": [
    {
     "output_type": "stream",
     "name": "stdout",
     "text": "Scores: 2130\nScores: 2124\nScores: 2112\nScores: 2082\nScores: 2052\nScores: 1992\n"
    },
    {
     "output_type": "display_data",
     "data": {
      "text/plain": "<Figure size 432x288 with 1 Axes>",
      "image/png": "[encoded data removed]"
     },
     "metadata": {
      "needs_background": "light"
     }
    },
    {
     "output_type": "stream",
     "name": "stdout",
     "text": "[(2, 0.3521202361782072), (3, 0.3293864370290635), (5, 0.3262987012987013), (10, 0.28579264947888094), (15, 0.26696329254727474), (25, 0.2620137299771167)]\n"
    }
   ],
   "source": [
    "# ROC for multiple gesture prediction\n",
    "from sklearn import metrics\n",
    "import matplotlib.pyplot as plt\n",
    "\n",
    "#group_size = 2\n",
    "\n",
    "def getPerformanceForGroupSize(group_size):\n",
    "    score_positive = getIndividualScoresForModel(model, X_validate)\n",
    "    score_positive_grouped = []\n",
    "\n",
    "    for i in range(len(score_positive) - group_size):\n",
    "        sub_list = score_positive[i:i + group_size]\n",
    "        score_positive_grouped.append(sum(sub_list) / group_size)\n",
    "\n",
    "    score_negative_grouped = []\n",
    "\n",
    "    for test_set in Y:\n",
    "        score_neg = getIndividualScoresForModel(model, test_set)\n",
    "\n",
    "        for i in range(len(score_neg) - group_size):\n",
    "            sub_list = score_neg[i:i + group_size]\n",
    "            score_negative_grouped.append(sum(sub_list) / group_size)\n",
    "\n",
    "    scores = np.concatenate([score_positive_grouped, score_negative_grouped])\n",
    "\n",
    "    print(f'Scores: {len(scores)}')\n",
    "\n",
    "    y_pos = np.ones(len(score_positive_grouped))\n",
    "    y_neg = np.zeros(len(score_negative_grouped))\n",
    "    y = np.concatenate([y_pos, y_neg])\n",
    "\n",
    "    fpr, tpr, thresholds = metrics.roc_curve(y, scores)\n",
    "    roc_auc = metrics.auc(fpr, tpr)\n",
    "\n",
    "    return fpr, tpr, thresholds, roc_auc\n",
    "\n",
    "\n",
    "fpr2, tpr2, thresholds2, roc_auc2 = getPerformanceForGroupSize(2)\n",
    "fpr3, tpr3, thresholds3, roc_auc3 = getPerformanceForGroupSize(3)\n",
    "fpr5, tpr5, thresholds5, roc_auc5 = getPerformanceForGroupSize(5)\n",
    "fpr10, tpr10, thresholds10, roc_auc10 = getPerformanceForGroupSize(10)\n",
    "fpr15, tpr15, thresholds15, roc_auc15 = getPerformanceForGroupSize(15)\n",
    "fpr25, tpr25, thresholds25, roc_auc25 = getPerformanceForGroupSize(25)\n",
    "\n",
    "fpr = [fpr2, fpr3, fpr5, fpr10, fpr15, fpr25]\n",
    "tpr = [tpr2, tpr3, tpr5, tpr10, tpr15, tpr25]\n",
    "roc_auc = [roc_auc2, roc_auc3, roc_auc5, roc_auc10, roc_auc15, roc_auc25]\n",
    "thresholds = [thresholds2, thresholds3, thresholds5, thresholds10, thresholds15, thresholds25]\n",
    "group_size = [2, 3, 5, 10, 15, 25]\n",
    "\n",
    "plot_roc_curve_multiple(fpr, tpr, roc_auc, group_size)\n",
    "eer = calculate_multiple_eer(fpr, tpr, thresholds, group_size)\n",
    "print(eer)\n",
    "#plot_roc_curve(fpr, tpr, roc_auc)\n",
    "#plot_eer(fpr, tpr, thresholds)"
   ]
  },
  {
   "cell_type": "markdown",
   "metadata": {},
   "source": [
    "# Training based on results of AUC and EER"
   ]
  },
  {
   "cell_type": "code",
   "execution_count": 8,
   "metadata": {
    "tags": []
   },
   "outputs": [
    {
     "output_type": "stream",
     "name": "stdout",
     "text": "States 2 | Mixtures 2 | AUC 0.6820876593025126 | EER 0.3694607581420182\nStates 2 | Mixtures 3 | AUC 0.6764251136776378 | EER 0.36412172984516816\nStates 2 | Mixtures 4 | AUC 0.6787929429557575 | EER 0.35184196476241325\nStates 2 | Mixtures 5 | AUC 0.6816946750635623 | EER 0.3555792845702082\nStates 2 | Mixtures 6 | AUC 0.6840902911060522 | EER 0.3609183128670582\nStates 2 | Mixtures 7 | AUC 0.6847095389977315 | EER 0.3561131873998932\nStates 3 | Mixtures 2 | AUC 0.6902430746451729 | EER 0.35344367325146825\nStates 3 | Mixtures 3 | AUC 0.6868808761563759 | EER 0.3566470902295782\nStates 3 | Mixtures 4 | AUC 0.6859004003278838 | EER 0.3561131873998932\nStates 3 | Mixtures 5 | AUC 0.6889549596397246 | EER 0.3587827015483182\nStates 3 | Mixtures 6 | AUC 0.686384683935479 | EER 0.3587827015483182\nStates 3 | Mixtures 7 | AUC 0.6883793766634845 | EER 0.3598505072076882\nStates 4 | Mixtures 2 | AUC 0.6922417369109454 | EER 0.37479978643886813\nStates 4 | Mixtures 3 | AUC 0.6720844241292323 | EER 0.405232247730913\nStates 4 | Mixtures 4 | threw Exception.\nStates 4 | Mixtures 5 | threw Exception.\nStates 4 | Mixtures 6 | threw Exception.\nStates 4 | Mixtures 7 | threw Exception.\nStates 5 | Mixtures 2 | AUC 0.6889271728753547 | EER 0.38120662039508807\nStates 5 | Mixtures 3 | AUC 0.6816688730680756 | EER 0.3849439402028831\nStates 5 | Mixtures 4 | threw Exception.\nStates 5 | Mixtures 5 | threw Exception.\nStates 5 | Mixtures 6 | threw Exception.\nStates 5 | Mixtures 7 | threw Exception.\nStates 6 | Mixtures 2 | AUC 0.6856939843639909 | EER 0.3742658836091831\nStates 6 | Mixtures 3 | AUC 0.6809702344210529 | EER 0.38868126001067804\nStates 6 | Mixtures 4 | threw Exception.\nStates 6 | Mixtures 5 | threw Exception.\nStates 6 | Mixtures 6 | threw Exception.\nStates 6 | Mixtures 7 | threw Exception.\nStates 7 | Mixtures 2 | AUC 0.6897210804287894 | EER 0.37319807794981313\nStates 7 | Mixtures 3 | AUC 0.680521676653362 | EER 0.39348638547784304\nStates 7 | Mixtures 4 | threw Exception.\nStates 7 | Mixtures 5 | threw Exception.\nStates 7 | Mixtures 6 | threw Exception.\nStates 7 | Mixtures 7 | threw Exception.\n"
    }
   ],
   "source": [
    "from sklearn import metrics\n",
    "\n",
    "max_states = 8\n",
    "max_mixtures = 8\n",
    "\n",
    "del(model)\n",
    "\n",
    "for states in range(2, max_states):\n",
    "    for mixtures in range(2, max_mixtures):\n",
    "        try:\n",
    "            model = hmm.GMMHMM(\n",
    "                n_components = states,\n",
    "                n_mix = mixtures\n",
    "            )\n",
    "            transmat, startprob = getHMMLeftToRightParameters(states)\n",
    "            #model.startprob_ = startprob\n",
    "            #model.transmat_ = transmat\n",
    "            model.fit(X = np.concatenate(X_train), lengths = getLengthsOfSequences(X_train))\n",
    "\n",
    "            score_positive = getIndividualScoresForModel(model, X_validate)\n",
    "            scores = score_positive\n",
    "\n",
    "            for test_set in Y:\n",
    "                score_neg = getIndividualScoresForModel(model, test_set)\n",
    "                scores = np.concatenate([scores, score_neg])\n",
    "\n",
    "            y_pos = np.ones(len(X_validate))\n",
    "            y_neg = np.zeros(len(scores) - len(X_validate))\n",
    "            y = np.concatenate([y_pos, y_neg])\n",
    "\n",
    "            fpr, tpr, thresholds = metrics.roc_curve(y, scores)\n",
    "            roc_auc = metrics.auc(fpr, tpr)\n",
    "            eer = calculate_single_eer(fpr, tpr, thresholds)\n",
    "\n",
    "            print(f'States {states} | Mixtures {mixtures} | AUC {roc_auc} | EER {eer}')\n",
    "        except:\n",
    "            print(f'States {states} | Mixtures {mixtures} | threw Exception.')\n"
   ]
  },
  {
   "cell_type": "code",
   "execution_count": 9,
   "metadata": {},
   "outputs": [
    {
     "output_type": "execute_result",
     "data": {
      "text/plain": "GMMHMM(algorithm='viterbi', covariance_type='diag',\n       covars_prior=array([[[-1.5, -1.5, -1.5],\n        [-1.5, -1.5, -1.5]],\n\n       [[-1.5, -1.5, -1.5],\n        [-1.5, -1.5, -1.5]],\n\n       [[-1.5, -1.5, -1.5],\n        [-1.5, -1.5, -1.5]]]),\n       covars_weight=array([[[0., 0., 0.],\n        [0., 0., 0.]],\n\n       [[0., 0., 0.],\n        [0., 0., 0.]],\n\n       [[0., 0., 0.],\n        [0., 0., 0.]]]),\n       init_params='stmcw',\n       means_prior=array([[[0., 0., 0.],\n        [0., 0., 0.]],\n\n       [[0., 0., 0.],\n        [0., 0., 0.]],\n\n       [[0., 0., 0.],\n        [0., 0., 0.]]]),\n       means_weight=array([[0., 0.],\n       [0., 0.],\n       [0., 0.]]),\n       min_covar=0.001, n_components=3, n_iter=10, n_mix=2, params='stmcw',\n       random_state=None, startprob_prior=1.0, tol=0.01, transmat_prior=1.0,\n       verbose=False,\n       weights_prior=array([[1., 1.],\n       [1., 1.],\n       [1., 1.]]))"
     },
     "metadata": {},
     "execution_count": 9
    }
   ],
   "source": [
    " states = 3\n",
    " mixtures = 2\n",
    " model = hmm.GMMHMM(\n",
    "    n_components = states,\n",
    "    n_mix = mixtures\n",
    ")\n",
    "transmat, startprob = getHMMLeftToRightParameters(states)\n",
    "model.startprob_ = startprob\n",
    "model.transmat_ = transmat\n",
    "model.fit(X = np.concatenate(X_train), lengths = getLengthsOfSequences(X_train))"
   ]
  },
  {
   "cell_type": "code",
   "execution_count": null,
   "metadata": {},
   "outputs": [],
   "source": []
  }
 ],
 "metadata": {
  "file_extension": ".py",
  "kernelspec": {
   "display_name": "Python 3.7.4 64-bit ('base': conda)",
   "language": "python",
   "name": "python_defaultSpec_1595480887433"
  },
  "language_info": {
   "codemirror_mode": {
    "name": "ipython",
    "version": 3
   },
   "file_extension": ".py",
   "mimetype": "text/x-python",
   "name": "python",
   "nbconvert_exporter": "python",
   "pygments_lexer": "ipython3",
   "version": "3.7.4-final"
  },
  "mimetype": "text/x-python",
  "name": "python",
  "npconvert_exporter": "python",
  "pygments_lexer": "ipython3",
  "version": 3
 },
 "nbformat": 4,
 "nbformat_minor": 2
}